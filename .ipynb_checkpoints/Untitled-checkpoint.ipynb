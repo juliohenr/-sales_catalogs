{
 "cells": [
  {
   "cell_type": "code",
   "execution_count": 13,
   "metadata": {},
   "outputs": [],
   "source": [
    "from pymongo import MongoClient\n",
    "from help_db import Catalogue_DB"
   ]
  },
  {
   "cell_type": "code",
   "execution_count": 25,
   "metadata": {},
   "outputs": [],
   "source": [
    "client = MongoClient(\"localhost\",port=27017)['sales-catalogue']"
   ]
  },
  {
   "cell_type": "code",
   "execution_count": 23,
   "metadata": {},
   "outputs": [],
   "source": [
    "data = {'Name': \"Julio\", \"CNPJ\": \"147530187563245\", \"City\": \"rio de janeiro\", \"NameOld\": \"Julio fff\", \"CNPJOld\": \"147530187563245\", \"CityOld\": \"rio de janeiro\", \"products\": []}"
   ]
  },
  {
   "cell_type": "code",
   "execution_count": 24,
   "metadata": {},
   "outputs": [
    {
     "name": "stdout",
     "output_type": "stream",
     "text": [
      "{'n': 0, 'nModified': 0, 'ok': 1.0, 'updatedExisting': False}\n"
     ]
    }
   ],
   "source": [
    "client_db.update_vendor(name=data[\"Name\"],\n",
    "                    city=data[\"City\"],\n",
    "                    cnpj=data[\"CNPJ\"],\n",
    "                    name_old=data[\"NameOld\"],\n",
    "                    city_old=data[\"CNPJOld\"],\n",
    "                    cnpj_old=data[\"CityOld\"],\n",
    "                    products = data[\"products\"])"
   ]
  },
  {
   "cell_type": "code",
   "execution_count": 27,
   "metadata": {},
   "outputs": [
    {
     "data": {
      "text/plain": [
       "<pymongo.results.UpdateResult at 0x7f29c0d45dc0>"
      ]
     },
     "execution_count": 27,
     "metadata": {},
     "output_type": "execute_result"
    }
   ],
   "source": [
    "client[\"vendors\"].update_one(\n",
    "    \n",
    "    \n",
    "    {\n",
    "        'Name': \"Julio\", \"CNPJ\": \"147530187563245\", \"City\": \"rio de janeiro\"}\n",
    "    \n",
    "    \n",
    "    , \n",
    "\n",
    "      {\"$set\":  {\n",
    "        \"Name\" : \"Julio kkkkkk\",\n",
    "    \"CNPJ\" : \"147530187563245\",\n",
    "    \"City\" : \"rio de janeiro\",\n",
    "    \"products\" : [ \n",
    "        {\n",
    "            \"name\" : \"b\",\n",
    "            \"code\" : \"b\",\n",
    "            \"price\" : \"b\"\n",
    "        }, \n",
    "        {\n",
    "            \"name\" : \"b\",\n",
    "            \"code\" : \"b\",\n",
    "            \"price\" : \"b\"\n",
    "        }\n",
    "    ]}}\n",
    ")\n"
   ]
  },
  {
   "cell_type": "code",
   "execution_count": null,
   "metadata": {},
   "outputs": [],
   "source": []
  }
 ],
 "metadata": {
  "kernelspec": {
   "display_name": "Python 3",
   "language": "python",
   "name": "python3"
  },
  "language_info": {
   "codemirror_mode": {
    "name": "ipython",
    "version": 3
   },
   "file_extension": ".py",
   "mimetype": "text/x-python",
   "name": "python",
   "nbconvert_exporter": "python",
   "pygments_lexer": "ipython3",
   "version": "3.7.4"
  }
 },
 "nbformat": 4,
 "nbformat_minor": 2
}
