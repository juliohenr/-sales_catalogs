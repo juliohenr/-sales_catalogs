{
 "cells": [
  {
   "cell_type": "code",
   "execution_count": 1,
   "metadata": {},
   "outputs": [],
   "source": [
    "import pymongo\n",
    "from pymongo import MongoClient"
   ]
  },
  {
   "cell_type": "markdown",
   "metadata": {},
   "source": [
    "## Connect Client"
   ]
  },
  {
   "cell_type": "code",
   "execution_count": 2,
   "metadata": {},
   "outputs": [],
   "source": [
    "client = MongoClient(\"localhost\",port=27017)\n",
    "db = client['sales-catalogue']"
   ]
  },
  {
   "cell_type": "markdown",
   "metadata": {},
   "source": [
    "## Find All"
   ]
  },
  {
   "cell_type": "code",
   "execution_count": null,
   "metadata": {},
   "outputs": [],
   "source": [
    "list(db['teste'].find({'name':'Julio Silva'}))"
   ]
  },
  {
   "cell_type": "code",
   "execution_count": 4,
   "metadata": {},
   "outputs": [
    {
     "data": {
      "text/plain": [
       "[{'_id': ObjectId('5eead600244684e31170276d'),\n",
       "  'Name': 'Gabriel Souza',\n",
       "  'CNPJ': 33000167000101,\n",
       "  'City': 'Seropédica',\n",
       "  'products': [{'Name': 'carro', 'Code': 444, 'Price': 20000}]},\n",
       " {'_id': ObjectId('5eead668244684e311702780'),\n",
       "  'Name': 'Rafaela Almeida',\n",
       "  'CNPJ': 1710155000184,\n",
       "  'City': 'Nova Iguaçu',\n",
       "  'products': [{'Name': 'cosméticos', 'Code': 555, 'Price': 40000}]},\n",
       " {'_id': ObjectId('5eead766244684e3117027d5'),\n",
       "  'Name': 'Julio Silva',\n",
       "  'CNPJ': 42515882000330,\n",
       "  'City': 'Seropédica',\n",
       "  'products': [{'Name': 'equipamento mecânico',\n",
       "    'Code': 777,\n",
       "    'Price': 2000000}]},\n",
       " {'_id': ObjectId('5eead805244684e3117027f9'),\n",
       "  'Name': 'Maria Ribeiro',\n",
       "  'CNPJ': 5919594000152,\n",
       "  'City': 'Niterói',\n",
       "  'products': [{'Name': 'peças mecânicas', 'Code': 432, 'Price': 4000}]}]"
      ]
     },
     "execution_count": 4,
     "metadata": {},
     "output_type": "execute_result"
    }
   ],
   "source": [
    "list(db['vendors'].find({}))"
   ]
  },
  {
   "cell_type": "markdown",
   "metadata": {},
   "source": [
    "## Insert "
   ]
  },
  {
   "cell_type": "code",
   "execution_count": null,
   "metadata": {},
   "outputs": [],
   "source": [
    "db['teste'].insert_one({\n",
    "  'name': 'Ronaldo Silva',\n",
    "  'CNPJ': '12345678912345',\n",
    "  'city': 'Rio de Janeiro',\n",
    "  'products': [{'name': 'mesa', 'id': 123}]})"
   ]
  },
  {
   "cell_type": "code",
   "execution_count": null,
   "metadata": {},
   "outputs": [],
   "source": []
  }
 ],
 "metadata": {
  "kernelspec": {
   "display_name": "Python 3",
   "language": "python",
   "name": "python3"
  },
  "language_info": {
   "codemirror_mode": {
    "name": "ipython",
    "version": 3
   },
   "file_extension": ".py",
   "mimetype": "text/x-python",
   "name": "python",
   "nbconvert_exporter": "python",
   "pygments_lexer": "ipython3",
   "version": "3.7.4"
  }
 },
 "nbformat": 4,
 "nbformat_minor": 2
}
