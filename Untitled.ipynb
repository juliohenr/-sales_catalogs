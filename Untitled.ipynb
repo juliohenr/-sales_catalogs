{
 "cells": [
  {
   "cell_type": "code",
   "execution_count": 1,
   "metadata": {},
   "outputs": [],
   "source": [
    "from pymongo import MongoClient\n",
    "from help_db import Catalogue_DB"
   ]
  },
  {
   "cell_type": "code",
   "execution_count": 2,
   "metadata": {},
   "outputs": [],
   "source": [
    "client = MongoClient(\"localhost\",port=27017)['sales-catalogue']"
   ]
  },
  {
   "cell_type": "code",
   "execution_count": null,
   "metadata": {},
   "outputs": [],
   "source": []
  },
  {
   "cell_type": "code",
   "execution_count": null,
   "metadata": {},
   "outputs": [],
   "source": []
  },
  {
   "cell_type": "code",
   "execution_count": 5,
   "metadata": {},
   "outputs": [],
   "source": [
    "class Catalogue_DB:\n",
    "\n",
    "    def __init__(self,port=27017):\n",
    "\n",
    "        self.client = MongoClient(\"localhost\",port=port)['sales-catalogue']\n",
    "\n",
    "\n",
    "\n",
    "    def update_vendor(self,name,cnpj,city,name_old,cnpj_old,city_old,products):\n",
    "\n",
    "\n",
    "        self.client[\"vendors\"].update_one({\n",
    "\n",
    "            'Name': name_old,\n",
    "            'CNPJ':cnpj_old,\n",
    "            'City': city_old}, \n",
    "\n",
    "            {\"$set\": {'Name': name,\n",
    "            'CNPJ':cnpj,\n",
    "            'City': city,\n",
    "            'products': products}}\n",
    "        )"
   ]
  },
  {
   "cell_type": "code",
   "execution_count": 8,
   "metadata": {},
   "outputs": [],
   "source": [
    "client = Catalogue_DB()"
   ]
  },
  {
   "cell_type": "code",
   "execution_count": 10,
   "metadata": {},
   "outputs": [],
   "source": [
    "client.update_vendor(name=\"Julio ll\",\n",
    "                    city=\"rio de janeiro\",\n",
    "                    cnpj=\"147530187563245\",\n",
    "                    name_old=\"Julio\",\n",
    "                    city_old=\"rio de janeiro\",\n",
    "                    cnpj_old=\"147530187563245\",\n",
    "                    products = [ \n",
    "        {\n",
    "            \"name\" : \"b\",\n",
    "            \"code\" : \"b\",\n",
    "            \"price\" : \"b\"\n",
    "        }, \n",
    "        {\n",
    "            \"name\" : \"b\",\n",
    "            \"code\" : \"b\",\n",
    "            \"price\" : \"b\"\n",
    "        }\n",
    "    ])"
   ]
  },
  {
   "cell_type": "code",
   "execution_count": null,
   "metadata": {},
   "outputs": [],
   "source": []
  }
 ],
 "metadata": {
  "kernelspec": {
   "display_name": "Python 3",
   "language": "python",
   "name": "python3"
  },
  "language_info": {
   "codemirror_mode": {
    "name": "ipython",
    "version": 3
   },
   "file_extension": ".py",
   "mimetype": "text/x-python",
   "name": "python",
   "nbconvert_exporter": "python",
   "pygments_lexer": "ipython3",
   "version": "3.7.4"
  }
 },
 "nbformat": 4,
 "nbformat_minor": 2
}
